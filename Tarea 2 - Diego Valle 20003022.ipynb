{
 "cells": [
  {
   "cell_type": "markdown",
   "metadata": {},
   "source": [
    "## Diego Fernando Valle Morales\n",
    "## Carné 20003022\n",
    "\n",
    "# Tarea 2"
   ]
  },
  {
   "cell_type": "markdown",
   "metadata": {},
   "source": [
    "Empezamos cargando los datos del dataset fashion MNIST"
   ]
  },
  {
   "cell_type": "code",
   "execution_count": 1,
   "metadata": {},
   "outputs": [],
   "source": [
    "from tensorflow import keras\n",
    "fashion_mnist = keras.datasets.fashion_mnist"
   ]
  },
  {
   "cell_type": "code",
   "execution_count": 2,
   "metadata": {},
   "outputs": [],
   "source": [
    "import pandas as pd\n",
    "from sklearn.preprocessing import StandardScaler\n",
    "import numpy as np\n",
    "#para los graficos\n",
    "import matplotlib.pyplot as plt\n",
    "import seaborn as sns\n",
    "%matplotlib inline\n",
    "\n",
    "from sklearn.manifold import TSNE"
   ]
  },
  {
   "cell_type": "code",
   "execution_count": 3,
   "metadata": {},
   "outputs": [],
   "source": [
    "(train_images, train_labels), (test_images, test_labels) = fashion_mnist.load_data()"
   ]
  },
  {
   "cell_type": "code",
   "execution_count": 4,
   "metadata": {},
   "outputs": [],
   "source": [
    "imagen=np.reshape(train_images,(60000,784))"
   ]
  },
  {
   "cell_type": "code",
   "execution_count": 5,
   "metadata": {},
   "outputs": [
    {
     "data": {
      "text/plain": [
       "(60000, 784)"
      ]
     },
     "execution_count": 5,
     "metadata": {},
     "output_type": "execute_result"
    }
   ],
   "source": [
    "imagen.shape"
   ]
  },
  {
   "cell_type": "code",
   "execution_count": 6,
   "metadata": {},
   "outputs": [
    {
     "data": {
      "text/plain": [
       "(60000, 784)"
      ]
     },
     "execution_count": 6,
     "metadata": {},
     "output_type": "execute_result"
    }
   ],
   "source": [
    "x_std=StandardScaler().fit_transform(imagen)\n",
    "x_std.shape"
   ]
  },
  {
   "cell_type": "code",
   "execution_count": 7,
   "metadata": {},
   "outputs": [
    {
     "name": "stdout",
     "output_type": "stream",
     "text": [
      "[[1.00001667 0.32375858 0.10472712 ... 0.00322519 0.00655966 0.03258376]\n",
      " [0.32375858 1.00001667 0.56275636 ... 0.03621546 0.02953008 0.02061528]\n",
      " [0.10472712 0.56275636 1.00001667 ... 0.05237603 0.02799057 0.02434324]\n",
      " ...\n",
      " [0.00322519 0.03621546 0.05237603 ... 1.00001667 0.64794149 0.24133048]\n",
      " [0.00655966 0.02953008 0.02799057 ... 0.64794149 1.00001667 0.50141607]\n",
      " [0.03258376 0.02061528 0.02434324 ... 0.24133048 0.50141607 1.00001667]]\n"
     ]
    }
   ],
   "source": [
    "features=x_std.T\n",
    "matriz_covarianza=np.cov(features)\n",
    "print(matriz_covarianza)"
   ]
  },
  {
   "cell_type": "code",
   "execution_count": 8,
   "metadata": {},
   "outputs": [],
   "source": [
    "eigen_vals, eigen_vecs=np.linalg.eig(matriz_covarianza)"
   ]
  },
  {
   "cell_type": "code",
   "execution_count": 9,
   "metadata": {},
   "outputs": [
    {
     "name": "stdout",
     "output_type": "stream",
     "text": [
      "Eigenvectors \n",
      "[[ 1.78224194e-04  1.04521427e-05 -3.33640060e-04 ...  1.61412148e-03\n",
      "  -6.32650500e-04  3.47803855e-05]\n",
      " [ 1.02295806e-03 -1.60487876e-03 -9.03903362e-04 ...  3.75630146e-04\n",
      "   1.04649614e-03  7.35905674e-04]\n",
      " [ 2.18629740e-03 -1.39523495e-03 -2.77778568e-03 ... -7.05226256e-04\n",
      "  -2.04000743e-04  1.14710671e-03]\n",
      " ...\n",
      " [ 6.32680223e-03 -1.39355770e-02 -9.45561135e-03 ... -1.25878982e-02\n",
      "  -3.86426644e-03 -1.27070974e-02]\n",
      " [ 1.63273351e-03 -9.55521133e-03  1.29622634e-03 ...  2.85965247e-03\n",
      "  -3.79946230e-03  2.90246415e-03]\n",
      " [ 7.79239732e-04 -4.30178911e-03  9.09684896e-04 ... -1.34421704e-03\n",
      "   1.03353941e-03  3.18408145e-03]]\n"
     ]
    }
   ],
   "source": [
    "print(\"Eigenvectors \\n%s\" %eigen_vecs)"
   ]
  },
  {
   "cell_type": "code",
   "execution_count": 10,
   "metadata": {},
   "outputs": [
    {
     "name": "stdout",
     "output_type": "stream",
     "text": [
      "Eigen vals \n",
      "[1.73137896e+02 1.13012603e+02 4.28163365e+01 3.98959607e+01\n",
      " 3.17908401e+01 2.36733644e+01 2.15410670e+01 1.81393468e+01\n",
      " 1.32704963e+01 1.03336329e+01 9.17376265e+00 7.54506218e+00\n",
      " 7.10661624e+00 6.75040337e+00 5.82527662e+00 5.72584171e+00\n",
      " 5.18669801e+00 4.95116213e+00 4.87607894e+00 4.58085356e+00\n",
      " 4.10343340e+00 4.00725656e+00 3.71256369e+00 3.52868326e+00\n",
      " 3.43949691e+00 3.27000669e+00 3.12303695e+00 3.06192229e+00\n",
      " 2.96094002e+00 2.92849545e+00 2.84689256e+00 2.75675535e+00\n",
      " 2.63460955e+00 2.59449221e+00 2.57190118e+00 2.48928424e+00\n",
      " 2.39285061e+00 2.32586007e+00 2.23204333e+00 2.21928761e+00\n",
      " 2.16063196e+00 2.10221955e+00 2.05704119e+00 1.99554846e+00\n",
      " 1.94060149e+00 1.88353239e+00 1.86575542e+00 1.79051386e+00\n",
      " 1.74106688e+00 1.69390146e+00 1.65003154e+00 1.62447385e+00\n",
      " 1.59068789e+00 1.57278982e+00 1.55916668e+00 1.52201618e+00\n",
      " 1.47811201e+00 1.44984072e+00 1.41420988e+00 1.38678293e+00\n",
      " 1.37072550e+00 1.34334980e+00 1.32729260e+00 1.28286002e+00\n",
      " 1.26238820e+00 1.25165733e+00 1.20548300e+00 1.18246759e+00\n",
      " 1.16566381e+00 1.14611368e+00 1.14212805e+00 1.12222898e+00\n",
      " 1.10430102e+00 1.08760698e+00 1.07061681e+00 1.06434070e+00\n",
      " 1.05324135e+00 1.02375461e+00 1.01324396e+00 9.91598390e-01\n",
      " 9.85020448e-01 9.60857917e-01 9.46287217e-01 9.40192008e-01\n",
      " 9.11430466e-01 8.90598132e-01 8.79886631e-01 8.76934391e-01\n",
      " 8.67069265e-01 8.58676330e-01 8.44042733e-01 8.37173814e-01\n",
      " 8.26342649e-01 8.18742913e-01 7.98342437e-01 7.85959599e-01\n",
      " 7.74257410e-01 7.68682380e-01 7.56915728e-01 7.48405984e-01\n",
      " 7.43980167e-01 7.35134066e-01 7.26219971e-01 6.96444901e-01\n",
      " 7.02958537e-01 7.16242944e-01 7.12987647e-01 6.89654859e-01\n",
      " 6.78052267e-01 6.68480852e-01 6.62974933e-01 6.57696859e-01\n",
      " 6.48277517e-01 6.35941074e-01 6.30983507e-01 6.25311026e-01\n",
      " 6.21167826e-01 6.19965550e-01 6.09380696e-01 6.05507731e-01\n",
      " 6.01082247e-01 5.90386804e-01 5.92582381e-01 5.82138246e-01\n",
      " 5.75802977e-01 5.68336962e-01 5.63929084e-01 5.58178781e-01\n",
      " 5.43378592e-01 5.49410829e-01 5.51392954e-01 5.37663568e-01\n",
      " 5.30580326e-01 5.23942615e-01 5.16078689e-01 5.12728535e-01\n",
      " 4.88488966e-01 5.01572308e-01 4.99820452e-01 4.97401967e-01\n",
      " 4.94288223e-01 4.84991329e-01 4.77230303e-01 4.73048469e-01\n",
      " 4.68903984e-01 4.63656321e-01 4.36044762e-01 4.56757892e-01\n",
      " 4.60134682e-01 4.49324517e-01 4.54644857e-01 4.42374288e-01\n",
      " 4.43451797e-01 4.47107467e-01 4.30788007e-01 4.25867749e-01\n",
      " 4.21817571e-01 4.22125613e-01 4.19710696e-01 4.12999446e-01\n",
      " 4.11490819e-01 4.09651785e-01 4.03495533e-01 4.01129445e-01\n",
      " 3.97746064e-01 3.93747194e-01 3.89146276e-01 3.87550447e-01\n",
      " 3.84904302e-01 3.81087409e-01 3.77038048e-01 3.75948020e-01\n",
      " 3.72148242e-01 3.71376793e-01 3.67663371e-01 3.64732460e-01\n",
      " 3.62740452e-01 3.59821912e-01 3.59073583e-01 3.54248988e-01\n",
      " 3.52830014e-01 3.48321191e-01 3.45989165e-01 3.44711340e-01\n",
      " 3.43100759e-01 3.39860189e-01 3.30645931e-01 3.32358101e-01\n",
      " 3.27020304e-01 3.25240900e-01 3.24217482e-01 3.20908741e-01\n",
      " 3.19902445e-01 3.18959715e-01 3.15762753e-01 3.13199974e-01\n",
      " 3.08956428e-01 3.07735456e-01 3.06403824e-01 3.05864054e-01\n",
      " 3.01869440e-01 3.01125984e-01 2.98544085e-01 2.97108308e-01\n",
      " 2.93710796e-01 2.90243433e-01 2.88400263e-01 2.88024773e-01\n",
      " 2.84615538e-01 2.82907707e-01 2.81912134e-01 2.53320506e-01\n",
      " 2.80413063e-01 2.80959771e-01 2.76464963e-01 2.56090361e-01\n",
      " 2.58211536e-01 2.72721091e-01 2.66270100e-01 2.69019194e-01\n",
      " 2.60904409e-01 2.62065983e-01 2.75029914e-01 2.55241360e-01\n",
      " 2.70704767e-01 2.68397230e-01 2.63132266e-01 2.64017875e-01\n",
      " 2.51980957e-01 2.51059949e-01 2.47673529e-01 2.46542190e-01\n",
      " 2.45228431e-01 2.43747612e-01 2.42923203e-01 2.41779791e-01\n",
      " 2.40876315e-01 2.38037523e-01 2.35721917e-01 2.34657238e-01\n",
      " 2.34151142e-01 2.32077467e-01 2.30665757e-01 2.27552253e-01\n",
      " 2.29920283e-01 2.24773108e-01 2.24466687e-01 2.22220935e-01\n",
      " 2.17301257e-01 2.21242573e-01 2.19894304e-01 2.20270012e-01\n",
      " 2.19268634e-01 2.15202731e-01 2.14263893e-01 2.12594497e-01\n",
      " 2.11072884e-01 2.05262493e-01 2.07197762e-01 2.09756892e-01\n",
      " 2.08746278e-01 2.08306664e-01 2.03592018e-01 2.02851717e-01\n",
      " 1.79592448e-01 2.00772382e-01 1.99543089e-01 2.02611554e-01\n",
      " 1.81338127e-01 1.82105607e-01 1.97553467e-01 1.96478538e-01\n",
      " 1.98123902e-01 1.95199305e-01 1.84188269e-01 1.93356550e-01\n",
      " 1.90952462e-01 1.85666028e-01 1.86370186e-01 1.87985913e-01\n",
      " 1.92072641e-01 1.87103542e-01 1.89414059e-01 1.89611984e-01\n",
      " 1.93287119e-01 1.83346695e-01 2.02193273e-01 1.77947023e-01\n",
      " 1.78379607e-01 1.76614709e-01 1.76024581e-01 1.77146576e-01\n",
      " 1.74225720e-01 1.73527083e-01 1.72933899e-01 1.72173378e-01\n",
      " 1.71267270e-01 1.70166114e-01 1.68471201e-01 1.68809134e-01\n",
      " 1.66800297e-01 1.66353891e-01 1.65474765e-01 1.64208581e-01\n",
      " 1.62912940e-01 1.62278398e-01 1.61713117e-01 1.61289932e-01\n",
      " 1.59517862e-01 1.59098847e-01 1.60300138e-01 1.40847899e-01\n",
      " 1.57574816e-01 1.41685083e-01 1.42042823e-01 1.55900208e-01\n",
      " 1.41866211e-01 1.43836729e-01 1.46869194e-01 1.45322520e-01\n",
      " 1.50792211e-01 1.51569796e-01 1.53442872e-01 1.57927563e-01\n",
      " 1.54698008e-01 1.44065237e-01 1.48102596e-01 1.54249809e-01\n",
      " 1.45784294e-01 1.49612734e-01 1.54965535e-01 1.52433684e-01\n",
      " 1.48367730e-01 1.49454808e-01 1.40248664e-01 1.39167078e-01\n",
      " 1.38337666e-01 1.37224159e-01 1.36400589e-01 1.35949514e-01\n",
      " 1.35404590e-01 1.34893375e-01 1.33895254e-01 1.32763641e-01\n",
      " 1.33281526e-01 1.33731018e-01 1.31308011e-01 1.31003490e-01\n",
      " 1.30071355e-01 1.29119781e-01 1.28485238e-01 1.25068587e-01\n",
      " 1.25397169e-01 1.28115837e-01 1.27662548e-01 1.26615396e-01\n",
      " 1.27022410e-01 1.27293826e-01 1.24310436e-01 1.23580663e-01\n",
      " 1.12477684e-01 1.21795810e-01 1.23108587e-01 1.20957732e-01\n",
      " 1.23004515e-01 1.13349593e-01 1.13882280e-01 1.19941379e-01\n",
      " 1.14249945e-01 1.19010061e-01 1.16215309e-01 1.18236927e-01\n",
      " 1.17209400e-01 1.19712039e-01 1.16753378e-01 1.15539356e-01\n",
      " 1.17444488e-01 1.18618134e-01 1.14331818e-01 4.51245700e-03\n",
      " 5.24477310e-03 6.13999995e-03 6.76694471e-03 6.94266393e-03\n",
      " 7.17420077e-03 7.45318757e-03 1.12062185e-01 1.12423530e-01\n",
      " 1.11356012e-01 1.10973529e-01 1.10497987e-01 1.10382360e-01\n",
      " 1.09577381e-01 1.08861125e-01 1.08627639e-01 1.08650303e-01\n",
      " 1.07392209e-01 1.06960860e-01 1.07269052e-01 1.06207884e-01\n",
      " 1.05746593e-01 1.04855122e-01 1.04319545e-01 1.03771564e-01\n",
      " 1.03426012e-01 1.02913775e-01 1.03253665e-01 1.02340952e-01\n",
      " 1.01964315e-01 1.00775109e-01 1.00552268e-01 9.98256235e-02\n",
      " 9.92714813e-02 9.87309132e-02 9.75947191e-02 9.79237523e-02\n",
      " 9.68675182e-02 9.82920609e-02 9.59679940e-02 9.71612883e-02\n",
      " 9.65241408e-02 9.53223867e-02 9.51598949e-02 9.43615891e-02\n",
      " 9.46569832e-02 9.33270968e-02 7.78818497e-03 8.16971895e-03\n",
      " 8.08790954e-03 8.46953390e-03 8.86138297e-03 1.12637567e-02\n",
      " 9.06901357e-03 9.34829731e-03 1.04155847e-02 9.78641959e-03\n",
      " 1.00027536e-02 9.95034898e-03 9.35716358e-02 9.27150385e-02\n",
      " 9.24364740e-02 9.21665337e-02 9.18594558e-02 9.10767629e-02\n",
      " 9.14816962e-02 9.05325482e-02 9.00518163e-02 8.94410927e-02\n",
      " 8.91886423e-02 8.87379752e-02 8.84118831e-02 8.76307453e-02\n",
      " 8.73609794e-02 8.78788153e-02 8.63636367e-02 8.61433889e-02\n",
      " 8.57864543e-02 8.54296091e-02 8.37155645e-02 8.53525349e-02\n",
      " 8.43865071e-02 8.45992545e-02 8.48523904e-02 7.32362439e-02\n",
      " 8.28231562e-02 7.35649628e-02 8.31833576e-02 8.24416793e-02\n",
      " 7.37110082e-02 7.39780273e-02 7.48783724e-02 8.11136000e-02\n",
      " 8.14793620e-02 8.20204184e-02 8.19373991e-02 8.06462540e-02\n",
      " 7.50092978e-02 7.51879790e-02 8.02204131e-02 7.66482728e-02\n",
      " 7.71721926e-02 7.60052651e-02 7.77696805e-02 7.74146800e-02\n",
      " 7.98747127e-02 7.61433409e-02 7.57299953e-02 7.93841627e-02\n",
      " 7.82714096e-02 7.88750830e-02 7.56551276e-02 7.84986924e-02\n",
      " 7.90017802e-02 1.06205487e-02 1.07026385e-02 1.11668110e-02\n",
      " 7.13838702e-02 7.16375125e-02 7.18082729e-02 7.21364368e-02\n",
      " 7.24482157e-02 7.28010162e-02 1.14115974e-02 1.16133806e-02\n",
      " 1.15570299e-02 1.20585156e-02 1.18442735e-02 6.82533252e-02\n",
      " 6.84782282e-02 6.91400771e-02 6.94675447e-02 6.97750381e-02\n",
      " 7.00586736e-02 7.05334909e-02 7.08826608e-02 7.04513257e-02\n",
      " 1.23451417e-02 1.25508547e-02 1.28660562e-02 1.27944166e-02\n",
      " 1.32666156e-02 1.33871392e-02 1.35399307e-02 1.38771108e-02\n",
      " 1.36648381e-02 1.38026057e-02 6.52091406e-02 6.79683917e-02\n",
      " 6.55698298e-02 6.68912675e-02 6.71463342e-02 6.64051255e-02\n",
      " 6.82133100e-02 6.60351511e-02 6.64984064e-02 6.57886959e-02\n",
      " 1.41904317e-02 1.43331970e-02 1.44792802e-02 1.47102629e-02\n",
      " 1.48775610e-02 1.47007670e-02 1.51808877e-02 1.50458136e-02\n",
      " 1.56657849e-02 1.58937906e-02 1.55600736e-02 1.62516285e-02\n",
      " 1.60778144e-02 6.47240661e-02 6.45319632e-02 6.43360321e-02\n",
      " 6.41471778e-02 6.35491625e-02 6.34876197e-02 6.28933671e-02\n",
      " 1.54325780e-02 6.09018063e-02 6.28088210e-02 6.24191367e-02\n",
      " 6.19854349e-02 6.18547644e-02 6.15480618e-02 6.12998465e-02\n",
      " 6.14318068e-02 1.64462246e-02 1.67396667e-02 1.66736420e-02\n",
      " 1.69095150e-02 1.97489661e-02 1.70274142e-02 1.73075383e-02\n",
      " 1.72841418e-02 1.76612918e-02 1.78015295e-02 1.80121153e-02\n",
      " 1.93196571e-02 1.82350891e-02 1.83219473e-02 1.91241588e-02\n",
      " 1.85023104e-02 1.88057702e-02 1.90565702e-02 1.86914281e-02\n",
      " 6.06298626e-02 6.03094671e-02 5.96389256e-02 5.99497629e-02\n",
      " 5.89535474e-02 5.92487598e-02 5.91536882e-02 5.86298286e-02\n",
      " 5.81009795e-02 5.79737877e-02 5.84117264e-02 5.77542756e-02\n",
      " 5.70699377e-02 5.73212466e-02 5.65747437e-02 5.11555994e-02\n",
      " 5.14097304e-02 5.59401171e-02 5.64779910e-02 5.17548727e-02\n",
      " 5.14478504e-02 5.64118968e-02 5.20841530e-02 5.25286858e-02\n",
      " 5.54648876e-02 5.52299969e-02 5.55388425e-02 5.22762989e-02\n",
      " 5.30088341e-02 5.55902962e-02 5.33283111e-02 5.31508210e-02\n",
      " 5.39668116e-02 5.37473083e-02 5.42245015e-02 5.48169736e-02\n",
      " 5.42875214e-02 1.93634947e-02 1.95451773e-02 1.98462557e-02\n",
      " 2.00776806e-02 5.01068132e-02 5.03547906e-02 5.08258534e-02\n",
      " 4.93594400e-02 4.99499049e-02 4.97866181e-02 5.06239483e-02\n",
      " 2.01790293e-02 2.02854182e-02 2.04388502e-02 2.06584296e-02\n",
      " 2.08342470e-02 2.10122948e-02 2.11810829e-02 2.13159867e-02\n",
      " 2.15716013e-02 2.17177581e-02 2.19007648e-02 2.19887692e-02\n",
      " 4.47861528e-02 4.91205335e-02 4.89891680e-02 4.86754833e-02\n",
      " 4.81919371e-02 4.80283779e-02 4.84750029e-02 4.79172611e-02\n",
      " 4.54194255e-02 4.55252211e-02 4.71458755e-02 4.64778625e-02\n",
      " 4.66393043e-02 4.69805172e-02 4.77352537e-02 4.68846592e-02\n",
      " 4.59267947e-02 4.60758638e-02 4.62781653e-02 4.58601933e-02\n",
      " 2.22090638e-02 2.23600500e-02 2.27160148e-02 4.48898951e-02\n",
      " 2.26333152e-02 4.44910950e-02 2.30776962e-02 4.42697398e-02\n",
      " 4.40498806e-02 2.32132580e-02 2.35091389e-02 4.35888228e-02\n",
      " 4.39452286e-02 4.33095572e-02 2.32698301e-02 2.36562875e-02\n",
      " 4.31608073e-02 2.40819478e-02 4.26333941e-02 4.27524229e-02\n",
      " 4.28943064e-02 4.21100767e-02 2.43090664e-02 2.38629987e-02\n",
      " 4.17883051e-02 2.44079739e-02 4.16966268e-02 2.46125732e-02\n",
      " 4.12923838e-02 2.25263272e-02 2.51386610e-02 2.53195744e-02\n",
      " 2.55677239e-02 4.09861245e-02 4.07470219e-02 2.47982338e-02\n",
      " 2.56966790e-02 4.04620139e-02 4.09018121e-02 3.88507256e-02\n",
      " 3.96347239e-02 4.02561001e-02 3.95634995e-02 4.00053362e-02\n",
      " 4.02903910e-02 2.48833869e-02 2.38342758e-02 3.94795504e-02\n",
      " 3.86586232e-02 3.90097869e-02 3.82312058e-02 3.80354603e-02\n",
      " 3.78566717e-02 3.86411511e-02 3.77492107e-02 3.71958276e-02\n",
      " 2.61538025e-02 3.74584612e-02 2.62385698e-02 2.63460915e-02\n",
      " 3.74791241e-02 3.67406685e-02 3.68599729e-02 3.63701538e-02\n",
      " 2.65755198e-02 2.69889308e-02 2.68462414e-02 2.64870766e-02\n",
      " 2.71893545e-02 3.61296349e-02 3.59870988e-02 2.82124351e-02\n",
      " 3.57870667e-02 3.55580477e-02 2.84306775e-02 2.74770602e-02\n",
      " 2.88198785e-02 3.54168649e-02 3.52542481e-02 2.90174822e-02\n",
      " 2.78974445e-02 2.77941766e-02 2.72896406e-02 3.48284696e-02\n",
      " 3.50377845e-02 3.45369906e-02 2.76703539e-02 2.75588184e-02\n",
      " 3.43523132e-02 3.37927210e-02 3.40272038e-02 3.49527839e-02\n",
      " 2.86949315e-02 3.42396347e-02 3.29270509e-02 3.35092310e-02\n",
      " 3.30706766e-02 2.86093881e-02 3.27764758e-02 3.24076669e-02\n",
      " 3.20951848e-02 2.96652599e-02 2.93911941e-02 3.19113215e-02\n",
      " 3.05296884e-02 3.07163831e-02 3.00105734e-02 3.12510507e-02\n",
      " 3.01487956e-02 3.03250316e-02 3.33711216e-02 3.17647700e-02\n",
      " 2.99307502e-02 2.94654464e-02 3.15319358e-02 3.16514694e-02\n",
      " 3.09284772e-02 3.10372612e-02 3.10678802e-02 3.34740002e-02]\n"
     ]
    }
   ],
   "source": [
    "print(\"Eigen vals \\n%s\" %eigen_vals)"
   ]
  },
  {
   "cell_type": "code",
   "execution_count": 11,
   "metadata": {},
   "outputs": [
    {
     "data": {
      "text/plain": [
       "0.22083547297081774"
      ]
     },
     "execution_count": 11,
     "metadata": {},
     "output_type": "execute_result"
    }
   ],
   "source": [
    "eigen_vals[0]/sum(eigen_vals)"
   ]
  },
  {
   "cell_type": "code",
   "execution_count": 12,
   "metadata": {},
   "outputs": [
    {
     "data": {
      "text/plain": [
       "array([ -0.80117477,  17.07420598,  -9.60164085, ...,   9.37766441,\n",
       "        -9.64563637, -21.31707928])"
      ]
     },
     "execution_count": 12,
     "metadata": {},
     "output_type": "execute_result"
    }
   ],
   "source": [
    "X_proyectado=x_std.dot(eigen_vecs.T[0])\n",
    "X_proyectado"
   ]
  },
  {
   "cell_type": "code",
   "execution_count": 13,
   "metadata": {},
   "outputs": [],
   "source": [
    "resultado=pd.DataFrame(X_proyectado, columns=['PC1'])\n",
    "resultado['eje-Y']=0.0\n",
    "resultado['label']=train_labels"
   ]
  },
  {
   "cell_type": "code",
   "execution_count": 14,
   "metadata": {},
   "outputs": [
    {
     "data": {
      "text/html": [
       "<div>\n",
       "<style scoped>\n",
       "    .dataframe tbody tr th:only-of-type {\n",
       "        vertical-align: middle;\n",
       "    }\n",
       "\n",
       "    .dataframe tbody tr th {\n",
       "        vertical-align: top;\n",
       "    }\n",
       "\n",
       "    .dataframe thead th {\n",
       "        text-align: right;\n",
       "    }\n",
       "</style>\n",
       "<table border=\"1\" class=\"dataframe\">\n",
       "  <thead>\n",
       "    <tr style=\"text-align: right;\">\n",
       "      <th></th>\n",
       "      <th>PC1</th>\n",
       "      <th>eje-Y</th>\n",
       "      <th>label</th>\n",
       "    </tr>\n",
       "  </thead>\n",
       "  <tbody>\n",
       "    <tr>\n",
       "      <td>0</td>\n",
       "      <td>-0.801175</td>\n",
       "      <td>0.0</td>\n",
       "      <td>9</td>\n",
       "    </tr>\n",
       "    <tr>\n",
       "      <td>1</td>\n",
       "      <td>17.074206</td>\n",
       "      <td>0.0</td>\n",
       "      <td>0</td>\n",
       "    </tr>\n",
       "    <tr>\n",
       "      <td>2</td>\n",
       "      <td>-9.601641</td>\n",
       "      <td>0.0</td>\n",
       "      <td>0</td>\n",
       "    </tr>\n",
       "    <tr>\n",
       "      <td>3</td>\n",
       "      <td>-0.311206</td>\n",
       "      <td>0.0</td>\n",
       "      <td>3</td>\n",
       "    </tr>\n",
       "    <tr>\n",
       "      <td>4</td>\n",
       "      <td>8.963833</td>\n",
       "      <td>0.0</td>\n",
       "      <td>0</td>\n",
       "    </tr>\n",
       "    <tr>\n",
       "      <td>...</td>\n",
       "      <td>...</td>\n",
       "      <td>...</td>\n",
       "      <td>...</td>\n",
       "    </tr>\n",
       "    <tr>\n",
       "      <td>59995</td>\n",
       "      <td>-21.235640</td>\n",
       "      <td>0.0</td>\n",
       "      <td>5</td>\n",
       "    </tr>\n",
       "    <tr>\n",
       "      <td>59996</td>\n",
       "      <td>-0.780765</td>\n",
       "      <td>0.0</td>\n",
       "      <td>1</td>\n",
       "    </tr>\n",
       "    <tr>\n",
       "      <td>59997</td>\n",
       "      <td>9.377664</td>\n",
       "      <td>0.0</td>\n",
       "      <td>3</td>\n",
       "    </tr>\n",
       "    <tr>\n",
       "      <td>59998</td>\n",
       "      <td>-9.645636</td>\n",
       "      <td>0.0</td>\n",
       "      <td>0</td>\n",
       "    </tr>\n",
       "    <tr>\n",
       "      <td>59999</td>\n",
       "      <td>-21.317079</td>\n",
       "      <td>0.0</td>\n",
       "      <td>5</td>\n",
       "    </tr>\n",
       "  </tbody>\n",
       "</table>\n",
       "<p>60000 rows × 3 columns</p>\n",
       "</div>"
      ],
      "text/plain": [
       "             PC1  eje-Y  label\n",
       "0      -0.801175    0.0      9\n",
       "1      17.074206    0.0      0\n",
       "2      -9.601641    0.0      0\n",
       "3      -0.311206    0.0      3\n",
       "4       8.963833    0.0      0\n",
       "...          ...    ...    ...\n",
       "59995 -21.235640    0.0      5\n",
       "59996  -0.780765    0.0      1\n",
       "59997   9.377664    0.0      3\n",
       "59998  -9.645636    0.0      0\n",
       "59999 -21.317079    0.0      5\n",
       "\n",
       "[60000 rows x 3 columns]"
      ]
     },
     "execution_count": 14,
     "metadata": {},
     "output_type": "execute_result"
    }
   ],
   "source": [
    "resultado"
   ]
  },
  {
   "cell_type": "code",
   "execution_count": 60,
   "metadata": {},
   "outputs": [
    {
     "data": {
      "text/plain": [
       "Text(0.5, 1, 'RESULTADO DE APLICAR PCA')"
      ]
     },
     "execution_count": 60,
     "metadata": {},
     "output_type": "execute_result"
    },
    {
     "data": {
      "image/png": "[encoded data removed]",
      "text/plain": [
       "<Figure size 402.375x360 with 1 Axes>"
      ]
     },
     "metadata": {
      "needs_background": "light"
     },
     "output_type": "display_data"
    }
   ],
   "source": [
    "sns.lmplot('PC1', \n",
    "           'eje-Y', \n",
    "           data=resultado, \n",
    "           fit_reg=False,  # x-axis, y-axis, data, no line\n",
    "           scatter_kws={\"s\": 50}, # marker size\n",
    "           hue=\"label\") # color\n",
    "\n",
    "# title\n",
    "plt.title('RESULTADO DE APLICAR PCA')"
   ]
  },
  {
   "cell_type": "markdown",
   "metadata": {},
   "source": [
    "#### Aplicando t-sne"
   ]
  },
  {
   "cell_type": "code",
   "execution_count": null,
   "metadata": {},
   "outputs": [],
   "source": [
    "tsne=TSNE(n_components=2,\n",
    "         n_iter=1000,\n",
    "         perplexity=100,\n",
    "         learning_rate=1000).fit_transform(imagen)"
   ]
  },
  {
   "cell_type": "code",
   "execution_count": null,
   "metadata": {},
   "outputs": [],
   "source": [
    "sklearn_result = pd.DataFrame(sklearn_pca_x, columns=['PC1'])\n",
    "sklearn_result['y-axis'] = 0.0\n",
    "sklearn_result['label'] = Y\n",
    "\n",
    "sns.lmplot('PC1', 'y-axis', data=sklearn_result, fit_reg=False,  # x-axis, y-axis, data, no line\n",
    "           scatter_kws={\"s\": 50}, # marker size\n",
    "           hue=\"label\") # color"
   ]
  }
 ],
 "metadata": {
  "kernelspec": {
   "display_name": "Python 3",
   "language": "python",
   "name": "python3"
  },
  "language_info": {
   "codemirror_mode": {
    "name": "ipython",
    "version": 3
   },
   "file_extension": ".py",
   "mimetype": "text/x-python",
   "name": "python",
   "nbconvert_exporter": "python",
   "pygments_lexer": "ipython3",
   "version": "3.7.4"
  }
 },
 "nbformat": 4,
 "nbformat_minor": 2
}
